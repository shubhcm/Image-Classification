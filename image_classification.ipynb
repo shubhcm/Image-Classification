{
 "cells": [
  {
   "cell_type": "markdown",
   "metadata": {
    "collapsed": true
   },
   "source": [
    "# Image Classification\n",
    "In this project, you'll classify images from the [CIFAR-10 dataset](https://www.cs.toronto.edu/~kriz/cifar.html).  The dataset consists of airplanes, dogs, cats, and other objects. You'll preprocess the images, then train a convolutional neural network on all the samples. The images need to be normalized and the labels need to be one-hot encoded.  You'll get to apply what you learned and build a convolutional, max pooling, dropout, and fully connected layers.  At the end, you'll get to see your neural network's predictions on the sample images.\n",
    "## Get the Data\n",
    "Run the following cell to download the [CIFAR-10 dataset for python](https://www.cs.toronto.edu/~kriz/cifar-10-python.tar.gz)."
   ]
  },
  {
   "cell_type": "code",
   "execution_count": 1,
   "metadata": {},
   "outputs": [
    {
     "name": "stderr",
     "output_type": "stream",
     "text": [
      "/home/shubham/anaconda2/envs/py35/lib/python3.5/site-packages/h5py/__init__.py:36: FutureWarning: Conversion of the second argument of issubdtype from `float` to `np.floating` is deprecated. In future, it will be treated as `np.float64 == np.dtype(float).type`.\n",
      "  from ._conv import register_converters as _register_converters\n"
     ]
    },
    {
     "name": "stdout",
     "output_type": "stream",
     "text": [
      "All files found!\n"
     ]
    }
   ],
   "source": [
    "\"\"\"\n",
    "DON'T MODIFY ANYTHING IN THIS CELL THAT IS BELOW THIS LINE\n",
    "\"\"\"\n",
    "from urllib.request import urlretrieve\n",
    "from os.path import isfile, isdir\n",
    "from tqdm import tqdm\n",
    "import problem_unittests as tests\n",
    "import tarfile\n",
    "\n",
    "cifar10_dataset_folder_path = 'cifar-10-batches-py'\n",
    "\n",
    "class DLProgress(tqdm):\n",
    "    last_block = 0\n",
    "\n",
    "    def hook(self, block_num=1, block_size=1, total_size=None):\n",
    "        self.total = total_size\n",
    "        self.update((block_num - self.last_block) * block_size)\n",
    "        self.last_block = block_num\n",
    "\n",
    "if not isfile('cifar-10-python.tar.gz'):\n",
    "    with DLProgress(unit='B', unit_scale=True, miniters=1, desc='CIFAR-10 Dataset') as pbar:\n",
    "        urlretrieve(\n",
    "            'https://www.cs.toronto.edu/~kriz/cifar-10-python.tar.gz',\n",
    "            'cifar-10-python.tar.gz',\n",
    "            pbar.hook)\n",
    "\n",
    "if not isdir(cifar10_dataset_folder_path):\n",
    "    with tarfile.open('cifar-10-python.tar.gz') as tar:\n",
    "        tar.extractall()\n",
    "        tar.close()\n",
    "\n",
    "\n",
    "tests.test_folder_path(cifar10_dataset_folder_path)"
   ]
  },
  {
   "cell_type": "markdown",
   "metadata": {},
   "source": [
    "## Explore the Data\n",
    "The dataset is broken into batches to prevent your machine from running out of memory.  The CIFAR-10 dataset consists of 5 batches, named `data_batch_1`, `data_batch_2`, etc.. Each batch contains the labels and images that are one of the following:\n",
    "* airplane\n",
    "* automobile\n",
    "* bird\n",
    "* cat\n",
    "* deer\n",
    "* dog\n",
    "* frog\n",
    "* horse\n",
    "* ship\n",
    "* truck\n",
    "\n",
    "Understanding a dataset is part of making predictions on the data.  Play around with the code cell below by changing the `batch_id` and `sample_id`. The `batch_id` is the id for a batch (1-5). The `sample_id` is the id for a image and label pair in the batch.\n",
    "\n",
    "Ask yourself \"What are all possible labels?\", \"What is the range of values for the image data?\", \"Are the labels in order or random?\".  Answers to questions like these will help you preprocess the data and end up with better predictions."
   ]
  },
  {
   "cell_type": "code",
   "execution_count": 2,
   "metadata": {
    "scrolled": true
   },
   "outputs": [
    {
     "name": "stdout",
     "output_type": "stream",
     "text": [
      "\n",
      "Stats of batch 1:\n",
      "Samples: 10000\n",
      "Label Counts: {0: 1005, 1: 974, 2: 1032, 3: 1016, 4: 999, 5: 937, 6: 1030, 7: 1001, 8: 1025, 9: 981}\n",
      "First 20 Labels: [6, 9, 9, 4, 1, 1, 2, 7, 8, 3, 4, 7, 7, 2, 9, 9, 9, 3, 2, 6]\n",
      "\n",
      "Example of Image 5:\n",
      "Image - Min Value: 0 Max Value: 252\n",
      "Image - Shape: (32, 32, 3)\n",
      "Label - Label Id: 1 Name: automobile\n"
     ]
    },
    {
     "data": {
      "image/png": "[encoded data removed]",
      "text/plain": [
       "<matplotlib.figure.Figure at 0x7f2244700e48>"
      ]
     },
     "metadata": {
      "image/png": {
       "height": 250,
       "width": 253
      }
     },
     "output_type": "display_data"
    }
   ],
   "source": [
    "%matplotlib inline\n",
    "%config InlineBackend.figure_format = 'retina'\n",
    "\n",
    "import helper\n",
    "import numpy as np\n",
    "\n",
    "# Explore the dataset\n",
    "batch_id = 1\n",
    "sample_id = 5\n",
    "helper.display_stats(cifar10_dataset_folder_path, batch_id, sample_id)\n"
   ]
  },
  {
   "cell_type": "markdown",
   "metadata": {},
   "source": [
    "## Implement Preprocess Functions\n",
    "### Normalize\n",
    "In the cell below, implement the `normalize` function to take in image data, `x`, and return it as a normalized Numpy array. The values should be in the range of 0 to 1, inclusive.  The return object should be the same shape as `x`."
   ]
  },
  {
   "cell_type": "code",
   "execution_count": 3,
   "metadata": {},
   "outputs": [
    {
     "name": "stdout",
     "output_type": "stream",
     "text": [
      "Tests Passed\n"
     ]
    }
   ],
   "source": [
    "def normalize(x):\n",
    "    \"\"\"\n",
    "    Normalize a list of sample image data in the range of 0 to 1\n",
    "    : x: List of image data.  The image shape is (32, 32, 3)\n",
    "    : return: Numpy array of normalize data\n",
    "    \"\"\"\n",
    "    # TODO: Implement Function\n",
    "    # Allocate ndarray for normalized images.\n",
    "    normalized_x = np.zeros(tuple(x.shape))\n",
    "    nr_images = x.shape[0]\n",
    "    # Compute max/min values.\n",
    "    max_val, min_val = x.max(), x.min()\n",
    "    # Transform every image.\n",
    "    for image_index in range(nr_images):\n",
    "        normalized_x[image_index,...] = (x[image_index, ...] - float(min_val)) / float(max_val - min_val)    \n",
    "    return normalized_x\n",
    "\n",
    "\n",
    "\"\"\"\n",
    "DON'T MODIFY ANYTHING IN THIS CELL THAT IS BELOW THIS LINE\n",
    "\"\"\"\n",
    "tests.test_normalize(normalize)"
   ]
  },
  {
   "cell_type": "markdown",
   "metadata": {},
   "source": [
    "### One-hot encode\n",
    "Just like the previous code cell, you'll be implementing a function for preprocessing.  This time, you'll implement the `one_hot_encode` function. The input, `x`, are a list of labels.  Implement the function to return the list of labels as One-Hot encoded Numpy array.  The possible values for labels are 0 to 9. The one-hot encoding function should return the same encoding for each value between each call to `one_hot_encode`.  Make sure to save the map of encodings outside the function.\n",
    "\n",
    "**Hint:**\n",
    "\n",
    "Look into LabelBinarizer in the preprocessing module of sklearn."
   ]
  },
  {
   "cell_type": "code",
   "execution_count": 4,
   "metadata": {
    "scrolled": true
   },
   "outputs": [
    {
     "name": "stdout",
     "output_type": "stream",
     "text": [
      "Tests Passed\n"
     ]
    }
   ],
   "source": [
    "def one_hot_encode(x, n_values=10):\n",
    "    \"\"\"\n",
    "    One hot encode a list of sample labels. Return a one-hot encoded vector for each label.\n",
    "    : x: List of sample Labels\n",
    "    : return: Numpy array of one-hot encoded labels\n",
    "    \"\"\"\n",
    "    # TODO: Implement Function\n",
    "    # Let's use the One-Hot encoder method available in sklearn.\n",
    "    from sklearn.preprocessing import OneHotEncoder\n",
    "    enc = OneHotEncoder(n_values=n_values)    \n",
    "    one_hot_encoded_labels = enc.fit_transform(np.array(x).reshape(-1, 1)).toarray()\n",
    "    return one_hot_encoded_labels\n",
    "\n",
    "\"\"\"\n",
    "DON'T MODIFY ANYTHING IN THIS CELL THAT IS BELOW THIS LINE\n",
    "\"\"\"\n",
    "tests.test_one_hot_encode(one_hot_encode)"
   ]
  },
  {
   "cell_type": "markdown",
   "metadata": {},
   "source": [
    "### Randomize Data\n",
    "As you saw from exploring the data above, the order of the samples are randomized.  It doesn't hurt to randomize it again, but you don't need to for this dataset."
   ]
  },
  {
   "cell_type": "markdown",
   "metadata": {},
   "source": [
    "## Preprocess all the data and save it\n",
    "Running the code cell below will preprocess all the CIFAR-10 data and save it to file. The code below also uses 10% of the training data for validation."
   ]
  },
  {
   "cell_type": "code",
   "execution_count": 5,
   "metadata": {},
   "outputs": [],
   "source": [
    "\"\"\"\n",
    "DON'T MODIFY ANYTHING IN THIS CELL\n",
    "\"\"\"\n",
    "# Preprocess Training, Validation, and Testing Data\n",
    "helper.preprocess_and_save_data(cifar10_dataset_folder_path, normalize, one_hot_encode)"
   ]
  },
  {
   "cell_type": "markdown",
   "metadata": {},
   "source": [
    "# Check Point\n",
    "This is your first checkpoint.  If you ever decide to come back to this notebook or have to restart the notebook, you can start from here.  The preprocessed data has been saved to disk."
   ]
  },
  {
   "cell_type": "code",
   "execution_count": 6,
   "metadata": {},
   "outputs": [],
   "source": [
    "\"\"\"\n",
    "DON'T MODIFY ANYTHING IN THIS CELL\n",
    "\"\"\"\n",
    "import pickle\n",
    "import problem_unittests as tests\n",
    "import helper\n",
    "\n",
    "# Load the Preprocessed Validation data\n",
    "valid_features, valid_labels = pickle.load(open('preprocess_validation.p', mode='rb'))"
   ]
  },
  {
   "cell_type": "markdown",
   "metadata": {},
   "source": [
    "## Build the network\n",
    "For the neural network, you'll build each layer into a function.  Most of the code you've seen has been outside of functions. To test your code more thoroughly, we require that you put each layer in a function.  This allows us to give you better feedback and test for simple mistakes using our unittests before you submit your project.\n",
    "\n",
    ">**Note:** If you're finding it hard to dedicate enough time for this course each week, we've provided a small shortcut to this part of the project. In the next couple of problems, you'll have the option to use classes from the [TensorFlow Layers](https://www.tensorflow.org/api_docs/python/tf/layers) or [TensorFlow Layers (contrib)](https://www.tensorflow.org/api_guides/python/contrib.layers) packages to build each layer, except the layers you build in the \"Convolutional and Max Pooling Layer\" section.  TF Layers is similar to Keras's and TFLearn's abstraction to layers, so it's easy to pickup.\n",
    "\n",
    ">However, if you would like to get the most out of this course, try to solve all the problems _without_ using anything from the TF Layers packages. You **can** still use classes from other packages that happen to have the same name as ones you find in TF Layers! For example, instead of using the TF Layers version of the `conv2d` class, [tf.layers.conv2d](https://www.tensorflow.org/api_docs/python/tf/layers/conv2d), you would want to use the TF Neural Network version of `conv2d`, [tf.nn.conv2d](https://www.tensorflow.org/api_docs/python/tf/nn/conv2d). \n",
    "\n",
    "Let's begin!\n",
    "\n",
    "### Input\n",
    "The neural network needs to read the image data, one-hot encoded labels, and dropout keep probability. Implement the following functions\n",
    "* Implement `neural_net_image_input`\n",
    " * Return a [TF Placeholder](https://www.tensorflow.org/api_docs/python/tf/placeholder)\n",
    " * Set the shape using `image_shape` with batch size set to `None`.\n",
    " * Name the TensorFlow placeholder \"x\" using the TensorFlow `name` parameter in the [TF Placeholder](https://www.tensorflow.org/api_docs/python/tf/placeholder).\n",
    "* Implement `neural_net_label_input`\n",
    " * Return a [TF Placeholder](https://www.tensorflow.org/api_docs/python/tf/placeholder)\n",
    " * Set the shape using `n_classes` with batch size set to `None`.\n",
    " * Name the TensorFlow placeholder \"y\" using the TensorFlow `name` parameter in the [TF Placeholder](https://www.tensorflow.org/api_docs/python/tf/placeholder).\n",
    "* Implement `neural_net_keep_prob_input`\n",
    " * Return a [TF Placeholder](https://www.tensorflow.org/api_docs/python/tf/placeholder) for dropout keep probability.\n",
    " * Name the TensorFlow placeholder \"keep_prob\" using the TensorFlow `name` parameter in the [TF Placeholder](https://www.tensorflow.org/api_docs/python/tf/placeholder).\n",
    "\n",
    "These names will be used at the end of the project to load your saved model.\n",
    "\n",
    "Note: `None` for shapes in TensorFlow allow for a dynamic size."
   ]
  },
  {
   "cell_type": "code",
   "execution_count": 7,
   "metadata": {},
   "outputs": [
    {
     "name": "stdout",
     "output_type": "stream",
     "text": [
      "Image Input Tests Passed.\n",
      "Label Input Tests Passed.\n",
      "Keep Prob Tests Passed.\n"
     ]
    }
   ],
   "source": [
    "import tensorflow as tf\n",
    "\n",
    "def neural_net_image_input(image_shape):\n",
    "    \"\"\"\n",
    "    Return a Tensor for a batch of image input\n",
    "    : image_shape: Shape of the images\n",
    "    : return: Tensor for image input.\n",
    "    \"\"\"\n",
    "    # TODO: Implement Function\n",
    "    return tf.placeholder(tf.float32, shape=((None,) + image_shape), name='x')\n",
    "\n",
    "\n",
    "def neural_net_label_input(n_classes):\n",
    "    \"\"\"\n",
    "    Return a Tensor for a batch of label input\n",
    "    : n_classes: Number of classes\n",
    "    : return: Tensor for label input.\n",
    "    \"\"\"\n",
    "    # TODO: Implement Function\n",
    "    return tf.placeholder(tf.float32, shape=(None, n_classes), name='y')\n",
    "\n",
    "\n",
    "def neural_net_keep_prob_input():\n",
    "    \"\"\"\n",
    "    Return a Tensor for keep probability\n",
    "    : return: Tensor for keep probability.\n",
    "    \"\"\"\n",
    "    # TODO: Implement Function\n",
    "    return tf.placeholder(tf.float32, shape=(None), name='keep_prob')\n",
    "\n",
    "\n",
    "\"\"\"\n",
    "DON'T MODIFY ANYTHING IN THIS CELL THAT IS BELOW THIS LINE\n",
    "\"\"\"\n",
    "tf.reset_default_graph()\n",
    "tests.test_nn_image_inputs(neural_net_image_input)\n",
    "tests.test_nn_label_inputs(neural_net_label_input)\n",
    "tests.test_nn_keep_prob_inputs(neural_net_keep_prob_input)"
   ]
  },
  {
   "cell_type": "markdown",
   "metadata": {},
   "source": [
    "### Convolution and Max Pooling Layer\n",
    "Convolution layers have a lot of success with images. For this code cell, you should implement the function `conv2d_maxpool` to apply convolution then max pooling:\n",
    "* Create the weight and bias using `conv_ksize`, `conv_num_outputs` and the shape of `x_tensor`.\n",
    "* Apply a convolution to `x_tensor` using weight and `conv_strides`.\n",
    " * We recommend you use same padding, but you're welcome to use any padding.\n",
    "* Add bias\n",
    "* Add a nonlinear activation to the convolution.\n",
    "* Apply Max Pooling using `pool_ksize` and `pool_strides`.\n",
    " * We recommend you use same padding, but you're welcome to use any padding.\n",
    "\n",
    "**Note:** You **can't** use [TensorFlow Layers](https://www.tensorflow.org/api_docs/python/tf/layers) or [TensorFlow Layers (contrib)](https://www.tensorflow.org/api_guides/python/contrib.layers) for **this** layer, but you can still use TensorFlow's [Neural Network](https://www.tensorflow.org/api_docs/python/tf/nn) package. You may still use the shortcut option for all the **other** layers.\n",
    "\n",
    "** Hint: **\n",
    "\n",
    "When unpacking values as an argument in Python, look into the [unpacking](https://docs.python.org/3/tutorial/controlflow.html#unpacking-argument-lists) operator. "
   ]
  },
  {
   "cell_type": "code",
   "execution_count": 8,
   "metadata": {},
   "outputs": [
    {
     "name": "stdout",
     "output_type": "stream",
     "text": [
      "Tests Passed\n"
     ]
    }
   ],
   "source": [
    "def conv2d_maxpool(x_tensor, conv_num_outputs, conv_ksize, conv_strides, pool_ksize, pool_strides):\n",
    "    \"\"\"\n",
    "    Apply convolution then max pooling to x_tensor\n",
    "    :param x_tensor: TensorFlow Tensor\n",
    "    :param conv_num_outputs: Number of outputs for the convolutional layer\n",
    "    :param conv_ksize: kernal size 2-D Tuple for the convolutional layer\n",
    "    :param conv_strides: Stride 2-D Tuple for convolution\n",
    "    :param pool_ksize: kernal size 2-D Tuple for pool\n",
    "    :param pool_strides: Stride 2-D Tuple for pool\n",
    "    : return: A tensor that represents convolution and max pooling of x_tensor\n",
    "    \"\"\"\n",
    "    # TODO: Implement Function\n",
    "    weights_shape = list(conv_ksize) + [x_tensor.get_shape().as_list()[3], conv_num_outputs]\n",
    "    # Define our trainable variables.\n",
    "    weights = tf.Variable(tf.truncated_normal(weights_shape, stddev=5e-2))\n",
    "    bias = tf.Variable(tf.zeros(conv_num_outputs))\n",
    "    \n",
    "    # 2D Convolution Layer.\n",
    "    output = tf.nn.conv2d(x_tensor, weights, \n",
    "                          strides=[1, conv_strides[0], conv_strides[1], 1],\n",
    "                          padding='SAME')\n",
    "    output = tf.nn.bias_add(output, bias)\n",
    "    output = tf.nn.relu(output)\n",
    "    \n",
    "    # Pooling layer.\n",
    "    output = tf.nn.max_pool(output, \n",
    "                            ksize=[1, pool_ksize[0], pool_ksize[1], 1], \n",
    "                            strides=[1, pool_strides[0], pool_strides[1], 1],\n",
    "                            padding='SAME')                                  \n",
    "    return output\n",
    "\n",
    "\n",
    "\"\"\"\n",
    "DON'T MODIFY ANYTHING IN THIS CELL THAT IS BELOW THIS LINE\n",
    "\"\"\"\n",
    "tests.test_con_pool(conv2d_maxpool)"
   ]
  },
  {
   "cell_type": "markdown",
   "metadata": {},
   "source": [
    "### Flatten Layer\n",
    "Implement the `flatten` function to change the dimension of `x_tensor` from a 4-D tensor to a 2-D tensor.  The output should be the shape (*Batch Size*, *Flattened Image Size*). Shortcut option: you can use classes from the [TensorFlow Layers](https://www.tensorflow.org/api_docs/python/tf/layers) or [TensorFlow Layers (contrib)](https://www.tensorflow.org/api_guides/python/contrib.layers) packages for this layer. For more of a challenge, only use other TensorFlow packages."
   ]
  },
  {
   "cell_type": "code",
   "execution_count": 9,
   "metadata": {},
   "outputs": [
    {
     "name": "stdout",
     "output_type": "stream",
     "text": [
      "Tests Passed\n"
     ]
    }
   ],
   "source": [
    "def flatten(x_tensor):\n",
    "    \"\"\"\n",
    "    Flatten x_tensor to (Batch Size, Flattened Image Size)\n",
    "    : x_tensor: A tensor of size (Batch Size, ...), where ... are the image dimensions.\n",
    "    : return: A tensor of size (Batch Size, Flattened Image Size).\n",
    "    \"\"\"\n",
    "    tensor_shape = x_tensor.get_shape().as_list()\n",
    "    # Get the length of the flattened dimensions.\n",
    "    flattened_shape = np.array(tensor_shape[1:]).prod()\n",
    "    # Batch size is casted by tf.shape.\n",
    "    return tf.reshape(x_tensor, [tf.shape(x_tensor)[0], flattened_shape])\n",
    "\n",
    "\n",
    "\"\"\"\n",
    "DON'T MODIFY ANYTHING IN THIS CELL THAT IS BELOW THIS LINE\n",
    "\"\"\"\n",
    "tests.test_flatten(flatten)"
   ]
  },
  {
   "cell_type": "markdown",
   "metadata": {},
   "source": [
    "### Fully-Connected Layer\n",
    "Implement the `fully_conn` function to apply a fully connected layer to `x_tensor` with the shape (*Batch Size*, *num_outputs*). Shortcut option: you can use classes from the [TensorFlow Layers](https://www.tensorflow.org/api_docs/python/tf/layers) or [TensorFlow Layers (contrib)](https://www.tensorflow.org/api_guides/python/contrib.layers) packages for this layer. For more of a challenge, only use other TensorFlow packages."
   ]
  },
  {
   "cell_type": "code",
   "execution_count": 10,
   "metadata": {},
   "outputs": [
    {
     "name": "stdout",
     "output_type": "stream",
     "text": [
      "Tests Passed\n"
     ]
    }
   ],
   "source": [
    "def fully_conn(x_tensor, num_outputs):\n",
    "    \"\"\"\n",
    "    Apply a fully connected layer to x_tensor using weight and bias\n",
    "    : x_tensor: A 2-D tensor where the first dimension is batch size.\n",
    "    : num_outputs: The number of output that the new tensor should be.\n",
    "    : return: A 2-D tensor where the second dimension is num_outputs.\n",
    "    \"\"\"\n",
    "    flattened_shape = np.array(x_tensor.get_shape().as_list()[1:]).prod()\n",
    "    # Define trainable variables.\n",
    "    weights = tf.Variable(tf.truncated_normal([flattened_shape, num_outputs], stddev=0.04))\n",
    "    bias = tf.Variable(tf.zeros([num_outputs]))\n",
    "    \n",
    "    # Fully convolution layer.\n",
    "    fc = tf.nn.relu(tf.add(tf.matmul(x_tensor, weights), bias))        \n",
    "    return fc\n",
    "\n",
    "\n",
    "\"\"\"\n",
    "DON'T MODIFY ANYTHING IN THIS CELL THAT IS BELOW THIS LINE\n",
    "\"\"\"\n",
    "tests.test_fully_conn(fully_conn)"
   ]
  },
  {
   "cell_type": "markdown",
   "metadata": {},
   "source": [
    "### Output Layer\n",
    "Implement the `output` function to apply a fully connected layer to `x_tensor` with the shape (*Batch Size*, *num_outputs*). Shortcut option: you can use classes from the [TensorFlow Layers](https://www.tensorflow.org/api_docs/python/tf/layers) or [TensorFlow Layers (contrib)](https://www.tensorflow.org/api_guides/python/contrib.layers) packages for this layer. For more of a challenge, only use other TensorFlow packages.\n",
    "\n",
    "**Note:** Activation, softmax, or cross entropy should **not** be applied to this."
   ]
  },
  {
   "cell_type": "code",
   "execution_count": 11,
   "metadata": {},
   "outputs": [
    {
     "name": "stdout",
     "output_type": "stream",
     "text": [
      "Tests Passed\n"
     ]
    }
   ],
   "source": [
    "def output(x_tensor, num_outputs):\n",
    "    \"\"\"\n",
    "    Apply a output layer to x_tensor using weight and bias\n",
    "    : x_tensor: A 2-D tensor where the first dimension is batch size.\n",
    "    : num_outputs: The number of output that the new tensor should be.\n",
    "    : return: A 2-D tensor where the second dimension is num_outputs.\n",
    "    \"\"\"\n",
    "    flattened_shape = np.array(x_tensor.get_shape().as_list()[1:]).prod()\n",
    "    # Define trainable variables.\n",
    "    weights = tf.Variable(tf.truncated_normal([flattened_shape, num_outputs], stddev=0.04))\n",
    "    bias = tf.Variable(tf.zeros([num_outputs]))\n",
    "    \n",
    "    # Output layer.    \n",
    "    return tf.add(tf.matmul(x_tensor, weights), bias)\n",
    "\n",
    "\n",
    "\"\"\"\n",
    "DON'T MODIFY ANYTHING IN THIS CELL THAT IS BELOW THIS LINE\n",
    "\"\"\"\n",
    "tests.test_output(output)"
   ]
  },
  {
   "cell_type": "markdown",
   "metadata": {},
   "source": [
    "### Create Convolutional Model\n",
    "Implement the function `conv_net` to create a convolutional neural network model. The function takes in a batch of images, `x`, and outputs logits.  Use the layers you created above to create this model:\n",
    "\n",
    "* Apply 1, 2, or 3 Convolution and Max Pool layers\n",
    "* Apply a Flatten Layer\n",
    "* Apply 1, 2, or 3 Fully Connected Layers\n",
    "* Apply an Output Layer\n",
    "* Return the output\n",
    "* Apply [TensorFlow's Dropout](https://www.tensorflow.org/api_docs/python/tf/nn/dropout) to one or more layers in the model using `keep_prob`. "
   ]
  },
  {
   "cell_type": "code",
   "execution_count": 12,
   "metadata": {},
   "outputs": [
    {
     "name": "stdout",
     "output_type": "stream",
     "text": [
      "WARNING:tensorflow:From <ipython-input-12-7f23cb89a13f>:72: softmax_cross_entropy_with_logits (from tensorflow.python.ops.nn_ops) is deprecated and will be removed in a future version.\n",
      "Instructions for updating:\n",
      "\n",
      "Future major versions of TensorFlow will allow gradients to flow\n",
      "into the labels input on backprop by default.\n",
      "\n",
      "See tf.nn.softmax_cross_entropy_with_logits_v2.\n",
      "\n",
      "Neural Network Built!\n"
     ]
    }
   ],
   "source": [
    "def conv_net(x, keep_prob, num_classes=10):\n",
    "    \"\"\"\n",
    "    Create a convolutional neural network model\n",
    "    : x: Placeholder tensor that holds image data.\n",
    "    : keep_prob: Placeholder tensor that hold dropout keep probability.\n",
    "    : return: Tensor that represents logits\n",
    "    \"\"\"\n",
    "    # TODO: Apply 1, 2, or 3 Convolution and Max Pool layers\n",
    "    #    Play around with different number of outputs, kernel size and stride\n",
    "    # Function Definition from Above:\n",
    "    #    conv2d_maxpool(x_tensor, conv_num_outputs, conv_ksize, conv_strides, pool_ksize, pool_strides)\n",
    "    conv = conv2d_maxpool(x,\n",
    "                           conv_num_outputs=64,\n",
    "                           conv_ksize=[5,5],\n",
    "                           conv_strides=[1,1],\n",
    "                           pool_ksize=[3,3],\n",
    "                           pool_strides=[2,2])\n",
    "    \n",
    "    conv = conv2d_maxpool(conv,\n",
    "                          conv_num_outputs=64,\n",
    "                          conv_ksize=[5,5],\n",
    "                          conv_strides=[1,1],\n",
    "                          pool_ksize=[3,3],\n",
    "                          pool_strides=[2,2])\n",
    "    \n",
    "\n",
    "    # TODO: Apply a Flatten Layer\n",
    "    # Function Definition from Above:\n",
    "    #   flatten(x_tensor)\n",
    "    flattened_conv = flatten(conv)\n",
    "    \n",
    "\n",
    "    # TODO: Apply 1, 2, or 3 Fully Connected Layers\n",
    "    #    Play around with different number of outputs\n",
    "    # Function Definition from Above:\n",
    "    #   fully_conn(x_tensor, num_outputs)\n",
    "    fc = fully_conn(flattened_conv, 384)\n",
    "    fc = fully_conn(fc, 192)\n",
    "    \n",
    "    # Dropout layer.\n",
    "    fc = tf.nn.dropout(fc, keep_prob)\n",
    "    \n",
    "    \n",
    "    # Output Layer.\n",
    "    return output(fc, num_classes)        \n",
    "\n",
    "\n",
    "\n",
    "\"\"\"\n",
    "DON'T MODIFY ANYTHING IN THIS CELL THAT IS BELOW THIS LINE\n",
    "\"\"\"\n",
    "\n",
    "##############################\n",
    "## Build the Neural Network ##\n",
    "##############################\n",
    "\n",
    "# Remove previous weights, bias, inputs, etc..\n",
    "tf.reset_default_graph()\n",
    "\n",
    "# Inputs\n",
    "x = neural_net_image_input((32, 32, 3))\n",
    "y = neural_net_label_input(10)\n",
    "keep_prob = neural_net_keep_prob_input()\n",
    "\n",
    "# Model\n",
    "logits = conv_net(x, keep_prob)\n",
    "\n",
    "# Name logits Tensor, so that is can be loaded from disk after training\n",
    "logits = tf.identity(logits, name='logits')\n",
    "\n",
    "# Loss and Optimizer\n",
    "cost = tf.reduce_mean(tf.nn.softmax_cross_entropy_with_logits(logits=logits, labels=y))\n",
    "optimizer = tf.train.AdamOptimizer().minimize(cost)\n",
    "\n",
    "# Accuracy\n",
    "correct_pred = tf.equal(tf.argmax(logits, 1), tf.argmax(y, 1))\n",
    "accuracy = tf.reduce_mean(tf.cast(correct_pred, tf.float32), name='accuracy')\n",
    "\n",
    "tests.test_conv_net(conv_net)"
   ]
  },
  {
   "cell_type": "markdown",
   "metadata": {},
   "source": [
    "## Train the Neural Network\n",
    "### Single Optimization\n",
    "Implement the function `train_neural_network` to do a single optimization.  The optimization should use `optimizer` to optimize in `session` with a `feed_dict` of the following:\n",
    "* `x` for image input\n",
    "* `y` for labels\n",
    "* `keep_prob` for keep probability for dropout\n",
    "\n",
    "This function will be called for each batch, so `tf.global_variables_initializer()` has already been called.\n",
    "\n",
    "Note: Nothing needs to be returned. This function is only optimizing the neural network."
   ]
  },
  {
   "cell_type": "code",
   "execution_count": 13,
   "metadata": {},
   "outputs": [
    {
     "name": "stdout",
     "output_type": "stream",
     "text": [
      "Tests Passed\n"
     ]
    }
   ],
   "source": [
    "def train_neural_network(session, optimizer, keep_probability, feature_batch, label_batch):\n",
    "    \"\"\"\n",
    "    Optimize the session on a batch of images and labels\n",
    "    : session: Current TensorFlow session\n",
    "    : optimizer: TensorFlow optimizer function\n",
    "    : keep_probability: keep probability\n",
    "    : feature_batch: Batch of Numpy image data\n",
    "    : label_batch: Batch of Numpy label data\n",
    "    \"\"\"\n",
    "    session.run(optimizer, feed_dict={x: feature_batch,\n",
    "                                      y: label_batch,\n",
    "                                      keep_prob: keep_probability})\n",
    "\n",
    "\n",
    "\"\"\"\n",
    "DON'T MODIFY ANYTHING IN THIS CELL THAT IS BELOW THIS LINE\n",
    "\"\"\"\n",
    "tests.test_train_nn(train_neural_network)"
   ]
  },
  {
   "cell_type": "markdown",
   "metadata": {},
   "source": [
    "### Show Stats\n",
    "Implement the function `print_stats` to print loss and validation accuracy.  Use the global variables `valid_features` and `valid_labels` to calculate validation accuracy.  Use a keep probability of `1.0` to calculate the loss and validation accuracy."
   ]
  },
  {
   "cell_type": "code",
   "execution_count": 14,
   "metadata": {},
   "outputs": [],
   "source": [
    "def print_stats(session, feature_batch, label_batch, cost, accuracy):\n",
    "    \"\"\"\n",
    "    Print information about loss and validation accuracy\n",
    "    : session: Current TensorFlow session\n",
    "    : feature_batch: Batch of Numpy image data\n",
    "    : label_batch: Batch of Numpy label data\n",
    "    : cost: TensorFlow cost function\n",
    "    : accuracy: TensorFlow accuracy function\n",
    "    \"\"\"\n",
    "    # Calculate batch loss and accuracy\n",
    "    loss = sess.run(cost, feed_dict={x: feature_batch,\n",
    "                                     y: label_batch,\n",
    "                                     keep_prob: 1.})\n",
    "    valid_acc = sess.run(accuracy, feed_dict={x: valid_features,\n",
    "                                              y: valid_labels,\n",
    "                                              keep_prob: 1.})\n",
    "\n",
    "    print('Loss: {:>10.4f} Validation Accuracy: {:.6f}'.format(loss, valid_acc))"
   ]
  },
  {
   "cell_type": "markdown",
   "metadata": {},
   "source": [
    "### Hyperparameters\n",
    "Tune the following parameters:\n",
    "* Set `epochs` to the number of iterations until the network stops learning or start overfitting\n",
    "* Set `batch_size` to the highest number that your machine has memory for.  Most people set them to common sizes of memory:\n",
    " * 64\n",
    " * 128\n",
    " * 256\n",
    " * ...\n",
    "* Set `keep_probability` to the probability of keeping a node using dropout"
   ]
  },
  {
   "cell_type": "code",
   "execution_count": 15,
   "metadata": {},
   "outputs": [],
   "source": [
    "# TODO: Tune Parameters\n",
    "epochs = 42\n",
    "batch_size = 256\n",
    "keep_probability = 0.77"
   ]
  },
  {
   "cell_type": "markdown",
   "metadata": {},
   "source": [
    "### Train on a Single CIFAR-10 Batch\n",
    "Instead of training the neural network on all the CIFAR-10 batches of data, let's use a single batch. This should save time while you iterate on the model to get a better accuracy.  Once the final validation accuracy is 50% or greater, run the model on all the data in the next section."
   ]
  },
  {
   "cell_type": "code",
   "execution_count": 16,
   "metadata": {
    "scrolled": true
   },
   "outputs": [
    {
     "name": "stdout",
     "output_type": "stream",
     "text": [
      "Checking the Training on a Single Batch...\n",
      "Epoch  1, CIFAR-10 Batch 1:  Loss:     2.0148 Validation Accuracy: 0.367600\n",
      "Epoch  2, CIFAR-10 Batch 1:  Loss:     1.7241 Validation Accuracy: 0.421000\n",
      "Epoch  3, CIFAR-10 Batch 1:  Loss:     1.5174 Validation Accuracy: 0.466600\n",
      "Epoch  4, CIFAR-10 Batch 1:  Loss:     1.3329 Validation Accuracy: 0.489200\n",
      "Epoch  5, CIFAR-10 Batch 1:  Loss:     1.1450 Validation Accuracy: 0.524000\n",
      "Epoch  6, CIFAR-10 Batch 1:  Loss:     0.9609 Validation Accuracy: 0.529400\n",
      "Epoch  7, CIFAR-10 Batch 1:  Loss:     0.7907 Validation Accuracy: 0.530200\n",
      "Epoch  8, CIFAR-10 Batch 1:  Loss:     0.6608 Validation Accuracy: 0.545200\n",
      "Epoch  9, CIFAR-10 Batch 1:  Loss:     0.4959 Validation Accuracy: 0.573200\n",
      "Epoch 10, CIFAR-10 Batch 1:  Loss:     0.3612 Validation Accuracy: 0.579600\n",
      "Epoch 11, CIFAR-10 Batch 1:  Loss:     0.3058 Validation Accuracy: 0.571600\n",
      "Epoch 12, CIFAR-10 Batch 1:  Loss:     0.2071 Validation Accuracy: 0.603800\n",
      "Epoch 13, CIFAR-10 Batch 1:  Loss:     0.1832 Validation Accuracy: 0.591000\n",
      "Epoch 14, CIFAR-10 Batch 1:  Loss:     0.1429 Validation Accuracy: 0.586600\n",
      "Epoch 15, CIFAR-10 Batch 1:  Loss:     0.1058 Validation Accuracy: 0.610200\n",
      "Epoch 16, CIFAR-10 Batch 1:  Loss:     0.0964 Validation Accuracy: 0.596400\n",
      "Epoch 17, CIFAR-10 Batch 1:  Loss:     0.1151 Validation Accuracy: 0.553600\n",
      "Epoch 18, CIFAR-10 Batch 1:  Loss:     0.0431 Validation Accuracy: 0.607400\n",
      "Epoch 19, CIFAR-10 Batch 1:  Loss:     0.0830 Validation Accuracy: 0.579600\n",
      "Epoch 20, CIFAR-10 Batch 1:  Loss:     0.1196 Validation Accuracy: 0.570000\n",
      "Epoch 21, CIFAR-10 Batch 1:  Loss:     0.0800 Validation Accuracy: 0.557200\n",
      "Epoch 22, CIFAR-10 Batch 1:  Loss:     0.0257 Validation Accuracy: 0.609400\n",
      "Epoch 23, CIFAR-10 Batch 1:  Loss:     0.0277 Validation Accuracy: 0.589600\n",
      "Epoch 24, CIFAR-10 Batch 1:  Loss:     0.0321 Validation Accuracy: 0.572800\n",
      "Epoch 25, CIFAR-10 Batch 1:  Loss:     0.0293 Validation Accuracy: 0.596800\n",
      "Epoch 26, CIFAR-10 Batch 1:  Loss:     0.0109 Validation Accuracy: 0.596000\n",
      "Epoch 27, CIFAR-10 Batch 1:  Loss:     0.0050 Validation Accuracy: 0.606000\n",
      "Epoch 28, CIFAR-10 Batch 1:  Loss:     0.0059 Validation Accuracy: 0.593600\n",
      "Epoch 29, CIFAR-10 Batch 1:  Loss:     0.0044 Validation Accuracy: 0.597600\n",
      "Epoch 30, CIFAR-10 Batch 1:  Loss:     0.0267 Validation Accuracy: 0.555000\n",
      "Epoch 31, CIFAR-10 Batch 1:  Loss:     0.0016 Validation Accuracy: 0.605400\n",
      "Epoch 32, CIFAR-10 Batch 1:  Loss:     0.0033 Validation Accuracy: 0.593600\n",
      "Epoch 33, CIFAR-10 Batch 1:  Loss:     0.0038 Validation Accuracy: 0.604400\n",
      "Epoch 34, CIFAR-10 Batch 1:  Loss:     0.0043 Validation Accuracy: 0.598600\n",
      "Epoch 35, CIFAR-10 Batch 1:  Loss:     0.0039 Validation Accuracy: 0.607600\n",
      "Epoch 36, CIFAR-10 Batch 1:  Loss:     0.0043 Validation Accuracy: 0.597600\n",
      "Epoch 37, CIFAR-10 Batch 1:  Loss:     0.0016 Validation Accuracy: 0.607200\n",
      "Epoch 38, CIFAR-10 Batch 1:  Loss:     0.0053 Validation Accuracy: 0.606400\n",
      "Epoch 39, CIFAR-10 Batch 1:  Loss:     0.0017 Validation Accuracy: 0.616000\n",
      "Epoch 40, CIFAR-10 Batch 1:  Loss:     0.0007 Validation Accuracy: 0.611200\n",
      "Epoch 41, CIFAR-10 Batch 1:  Loss:     0.0005 Validation Accuracy: 0.612000\n",
      "Epoch 42, CIFAR-10 Batch 1:  Loss:     0.0003 Validation Accuracy: 0.602200\n"
     ]
    }
   ],
   "source": [
    "\"\"\"\n",
    "DON'T MODIFY ANYTHING IN THIS CELL\n",
    "\"\"\"\n",
    "print('Checking the Training on a Single Batch...')\n",
    "with tf.Session() as sess:\n",
    "    # Initializing the variables\n",
    "    sess.run(tf.global_variables_initializer())\n",
    "    \n",
    "    # Training cycle\n",
    "    for epoch in range(epochs):\n",
    "        batch_i = 1\n",
    "        for batch_features, batch_labels in helper.load_preprocess_training_batch(batch_i, batch_size):\n",
    "            train_neural_network(sess, optimizer, keep_probability, batch_features, batch_labels)\n",
    "        print('Epoch {:>2}, CIFAR-10 Batch {}:  '.format(epoch + 1, batch_i), end='')\n",
    "        print_stats(sess, batch_features, batch_labels, cost, accuracy)"
   ]
  },
  {
   "cell_type": "markdown",
   "metadata": {},
   "source": [
    "### Fully Train the Model\n",
    "Now that you got a good accuracy with a single CIFAR-10 batch, try it with all five batches."
   ]
  },
  {
   "cell_type": "code",
   "execution_count": 17,
   "metadata": {
    "scrolled": true
   },
   "outputs": [
    {
     "name": "stdout",
     "output_type": "stream",
     "text": [
      "Training...\n",
      "Epoch  1, CIFAR-10 Batch 1:  Loss:     2.0593 Validation Accuracy: 0.329200\n",
      "Epoch  1, CIFAR-10 Batch 2:  Loss:     1.5758 Validation Accuracy: 0.396200\n",
      "Epoch  1, CIFAR-10 Batch 3:  Loss:     1.2833 Validation Accuracy: 0.463400\n",
      "Epoch  1, CIFAR-10 Batch 4:  Loss:     1.3383 Validation Accuracy: 0.463200\n",
      "Epoch  1, CIFAR-10 Batch 5:  Loss:     1.3157 Validation Accuracy: 0.535800\n",
      "Epoch  2, CIFAR-10 Batch 1:  Loss:     1.3353 Validation Accuracy: 0.519200\n",
      "Epoch  2, CIFAR-10 Batch 2:  Loss:     1.0996 Validation Accuracy: 0.505400\n",
      "Epoch  2, CIFAR-10 Batch 3:  Loss:     0.8874 Validation Accuracy: 0.549800\n",
      "Epoch  2, CIFAR-10 Batch 4:  Loss:     0.9071 Validation Accuracy: 0.599600\n",
      "Epoch  2, CIFAR-10 Batch 5:  Loss:     0.9427 Validation Accuracy: 0.598800\n",
      "Epoch  3, CIFAR-10 Batch 1:  Loss:     0.9628 Validation Accuracy: 0.580400\n",
      "Epoch  3, CIFAR-10 Batch 2:  Loss:     0.7598 Validation Accuracy: 0.613800\n",
      "Epoch  3, CIFAR-10 Batch 3:  Loss:     0.6402 Validation Accuracy: 0.613200\n",
      "Epoch  3, CIFAR-10 Batch 4:  Loss:     0.6560 Validation Accuracy: 0.636000\n",
      "Epoch  3, CIFAR-10 Batch 5:  Loss:     0.6115 Validation Accuracy: 0.643600\n",
      "Epoch  4, CIFAR-10 Batch 1:  Loss:     0.6358 Validation Accuracy: 0.661400\n",
      "Epoch  4, CIFAR-10 Batch 2:  Loss:     0.4705 Validation Accuracy: 0.660000\n",
      "Epoch  4, CIFAR-10 Batch 3:  Loss:     0.4043 Validation Accuracy: 0.673400\n",
      "Epoch  4, CIFAR-10 Batch 4:  Loss:     0.4306 Validation Accuracy: 0.673800\n",
      "Epoch  4, CIFAR-10 Batch 5:  Loss:     0.3639 Validation Accuracy: 0.662000\n",
      "Epoch  5, CIFAR-10 Batch 1:  Loss:     0.4551 Validation Accuracy: 0.670200\n",
      "Epoch  5, CIFAR-10 Batch 2:  Loss:     0.3659 Validation Accuracy: 0.663800\n",
      "Epoch  5, CIFAR-10 Batch 3:  Loss:     0.3582 Validation Accuracy: 0.679400\n",
      "Epoch  5, CIFAR-10 Batch 4:  Loss:     0.3449 Validation Accuracy: 0.668400\n",
      "Epoch  5, CIFAR-10 Batch 5:  Loss:     0.2333 Validation Accuracy: 0.692600\n",
      "Epoch  6, CIFAR-10 Batch 1:  Loss:     0.2874 Validation Accuracy: 0.699200\n",
      "Epoch  6, CIFAR-10 Batch 2:  Loss:     0.2141 Validation Accuracy: 0.685800\n",
      "Epoch  6, CIFAR-10 Batch 3:  Loss:     0.2614 Validation Accuracy: 0.687000\n",
      "Epoch  6, CIFAR-10 Batch 4:  Loss:     0.2405 Validation Accuracy: 0.701000\n",
      "Epoch  6, CIFAR-10 Batch 5:  Loss:     0.1539 Validation Accuracy: 0.699000\n",
      "Epoch  7, CIFAR-10 Batch 1:  Loss:     0.1965 Validation Accuracy: 0.685400\n",
      "Epoch  7, CIFAR-10 Batch 2:  Loss:     0.1810 Validation Accuracy: 0.689200\n",
      "Epoch  7, CIFAR-10 Batch 3:  Loss:     0.1288 Validation Accuracy: 0.692000\n",
      "Epoch  7, CIFAR-10 Batch 4:  Loss:     0.1703 Validation Accuracy: 0.698600\n",
      "Epoch  7, CIFAR-10 Batch 5:  Loss:     0.1609 Validation Accuracy: 0.698600\n",
      "Epoch  8, CIFAR-10 Batch 1:  Loss:     0.0984 Validation Accuracy: 0.691800\n",
      "Epoch  8, CIFAR-10 Batch 2:  Loss:     0.1654 Validation Accuracy: 0.701000\n",
      "Epoch  8, CIFAR-10 Batch 3:  Loss:     0.0886 Validation Accuracy: 0.711000\n",
      "Epoch  8, CIFAR-10 Batch 4:  Loss:     0.1349 Validation Accuracy: 0.700400\n",
      "Epoch  8, CIFAR-10 Batch 5:  Loss:     0.1164 Validation Accuracy: 0.682600\n",
      "Epoch  9, CIFAR-10 Batch 1:  Loss:     0.1114 Validation Accuracy: 0.696800\n",
      "Epoch  9, CIFAR-10 Batch 2:  Loss:     0.1147 Validation Accuracy: 0.701000\n",
      "Epoch  9, CIFAR-10 Batch 3:  Loss:     0.0798 Validation Accuracy: 0.691200\n",
      "Epoch  9, CIFAR-10 Batch 4:  Loss:     0.1246 Validation Accuracy: 0.701400\n",
      "Epoch  9, CIFAR-10 Batch 5:  Loss:     0.0680 Validation Accuracy: 0.696200\n",
      "Epoch 10, CIFAR-10 Batch 1:  Loss:     0.0687 Validation Accuracy: 0.696400\n",
      "Epoch 10, CIFAR-10 Batch 2:  Loss:     0.0801 Validation Accuracy: 0.711600\n",
      "Epoch 10, CIFAR-10 Batch 3:  Loss:     0.0766 Validation Accuracy: 0.681800\n",
      "Epoch 10, CIFAR-10 Batch 4:  Loss:     0.0811 Validation Accuracy: 0.710800\n",
      "Epoch 10, CIFAR-10 Batch 5:  Loss:     0.0424 Validation Accuracy: 0.693400\n",
      "Epoch 11, CIFAR-10 Batch 1:  Loss:     0.1309 Validation Accuracy: 0.675000\n",
      "Epoch 11, CIFAR-10 Batch 2:  Loss:     0.0640 Validation Accuracy: 0.672800\n",
      "Epoch 11, CIFAR-10 Batch 3:  Loss:     0.0589 Validation Accuracy: 0.714600\n",
      "Epoch 11, CIFAR-10 Batch 4:  Loss:     0.0913 Validation Accuracy: 0.703200\n",
      "Epoch 11, CIFAR-10 Batch 5:  Loss:     0.0441 Validation Accuracy: 0.687400\n",
      "Epoch 12, CIFAR-10 Batch 1:  Loss:     0.0597 Validation Accuracy: 0.699000\n",
      "Epoch 12, CIFAR-10 Batch 2:  Loss:     0.0377 Validation Accuracy: 0.687600\n",
      "Epoch 12, CIFAR-10 Batch 3:  Loss:     0.0276 Validation Accuracy: 0.716800\n",
      "Epoch 12, CIFAR-10 Batch 4:  Loss:     0.0368 Validation Accuracy: 0.706800\n",
      "Epoch 12, CIFAR-10 Batch 5:  Loss:     0.0174 Validation Accuracy: 0.699000\n",
      "Epoch 13, CIFAR-10 Batch 1:  Loss:     0.0447 Validation Accuracy: 0.709400\n",
      "Epoch 13, CIFAR-10 Batch 2:  Loss:     0.0186 Validation Accuracy: 0.691800\n",
      "Epoch 13, CIFAR-10 Batch 3:  Loss:     0.0306 Validation Accuracy: 0.699000\n",
      "Epoch 13, CIFAR-10 Batch 4:  Loss:     0.0365 Validation Accuracy: 0.700800\n",
      "Epoch 13, CIFAR-10 Batch 5:  Loss:     0.0312 Validation Accuracy: 0.699400\n",
      "Epoch 14, CIFAR-10 Batch 1:  Loss:     0.0287 Validation Accuracy: 0.710200\n",
      "Epoch 14, CIFAR-10 Batch 2:  Loss:     0.0238 Validation Accuracy: 0.701800\n",
      "Epoch 14, CIFAR-10 Batch 3:  Loss:     0.0107 Validation Accuracy: 0.720200\n",
      "Epoch 14, CIFAR-10 Batch 4:  Loss:     0.0231 Validation Accuracy: 0.698400\n",
      "Epoch 14, CIFAR-10 Batch 5:  Loss:     0.0181 Validation Accuracy: 0.700800\n",
      "Epoch 15, CIFAR-10 Batch 1:  Loss:     0.0218 Validation Accuracy: 0.712600\n",
      "Epoch 15, CIFAR-10 Batch 2:  Loss:     0.0148 Validation Accuracy: 0.698600\n",
      "Epoch 15, CIFAR-10 Batch 3:  Loss:     0.0222 Validation Accuracy: 0.707200\n",
      "Epoch 15, CIFAR-10 Batch 4:  Loss:     0.0269 Validation Accuracy: 0.680800\n",
      "Epoch 15, CIFAR-10 Batch 5:  Loss:     0.0157 Validation Accuracy: 0.696200\n",
      "Epoch 16, CIFAR-10 Batch 1:  Loss:     0.0220 Validation Accuracy: 0.704200\n",
      "Epoch 16, CIFAR-10 Batch 2:  Loss:     0.0109 Validation Accuracy: 0.696000\n",
      "Epoch 16, CIFAR-10 Batch 3:  Loss:     0.0043 Validation Accuracy: 0.710600\n",
      "Epoch 16, CIFAR-10 Batch 4:  Loss:     0.0229 Validation Accuracy: 0.666600\n",
      "Epoch 16, CIFAR-10 Batch 5:  Loss:     0.0148 Validation Accuracy: 0.699200\n",
      "Epoch 17, CIFAR-10 Batch 1:  Loss:     0.0125 Validation Accuracy: 0.720000\n",
      "Epoch 17, CIFAR-10 Batch 2:  Loss:     0.0096 Validation Accuracy: 0.704800\n",
      "Epoch 17, CIFAR-10 Batch 3:  Loss:     0.0028 Validation Accuracy: 0.699600\n",
      "Epoch 17, CIFAR-10 Batch 4:  Loss:     0.0104 Validation Accuracy: 0.686400\n",
      "Epoch 17, CIFAR-10 Batch 5:  Loss:     0.0171 Validation Accuracy: 0.698000\n",
      "Epoch 18, CIFAR-10 Batch 1:  Loss:     0.0204 Validation Accuracy: 0.698200\n",
      "Epoch 18, CIFAR-10 Batch 2:  Loss:     0.0140 Validation Accuracy: 0.672600\n",
      "Epoch 18, CIFAR-10 Batch 3:  Loss:     0.0031 Validation Accuracy: 0.705200\n",
      "Epoch 18, CIFAR-10 Batch 4:  Loss:     0.0129 Validation Accuracy: 0.686800\n",
      "Epoch 18, CIFAR-10 Batch 5:  Loss:     0.0063 Validation Accuracy: 0.711400\n",
      "Epoch 19, CIFAR-10 Batch 1:  Loss:     0.0208 Validation Accuracy: 0.685000\n",
      "Epoch 19, CIFAR-10 Batch 2:  Loss:     0.0206 Validation Accuracy: 0.669800\n",
      "Epoch 19, CIFAR-10 Batch 3:  Loss:     0.0064 Validation Accuracy: 0.698800\n",
      "Epoch 19, CIFAR-10 Batch 4:  Loss:     0.0082 Validation Accuracy: 0.695000\n",
      "Epoch 19, CIFAR-10 Batch 5:  Loss:     0.0065 Validation Accuracy: 0.698600\n",
      "Epoch 20, CIFAR-10 Batch 1:  Loss:     0.0188 Validation Accuracy: 0.697600\n",
      "Epoch 20, CIFAR-10 Batch 2:  Loss:     0.0054 Validation Accuracy: 0.682200\n",
      "Epoch 20, CIFAR-10 Batch 3:  Loss:     0.0022 Validation Accuracy: 0.705600\n",
      "Epoch 20, CIFAR-10 Batch 4:  Loss:     0.0051 Validation Accuracy: 0.696400\n",
      "Epoch 20, CIFAR-10 Batch 5:  Loss:     0.0019 Validation Accuracy: 0.699600\n",
      "Epoch 21, CIFAR-10 Batch 1:  Loss:     0.0077 Validation Accuracy: 0.703400\n",
      "Epoch 21, CIFAR-10 Batch 2:  Loss:     0.0069 Validation Accuracy: 0.698800\n",
      "Epoch 21, CIFAR-10 Batch 3:  Loss:     0.0017 Validation Accuracy: 0.709000\n",
      "Epoch 21, CIFAR-10 Batch 4:  Loss:     0.0103 Validation Accuracy: 0.705000\n",
      "Epoch 21, CIFAR-10 Batch 5:  Loss:     0.0025 Validation Accuracy: 0.725000\n",
      "Epoch 22, CIFAR-10 Batch 1:  Loss:     0.0118 Validation Accuracy: 0.692600\n",
      "Epoch 22, CIFAR-10 Batch 2:  Loss:     0.0088 Validation Accuracy: 0.700800\n",
      "Epoch 22, CIFAR-10 Batch 3:  Loss:     0.0016 Validation Accuracy: 0.703400\n"
     ]
    },
    {
     "name": "stdout",
     "output_type": "stream",
     "text": [
      "Epoch 22, CIFAR-10 Batch 4:  Loss:     0.0029 Validation Accuracy: 0.706800\n",
      "Epoch 22, CIFAR-10 Batch 5:  Loss:     0.0049 Validation Accuracy: 0.689400\n",
      "Epoch 23, CIFAR-10 Batch 1:  Loss:     0.0032 Validation Accuracy: 0.691600\n",
      "Epoch 23, CIFAR-10 Batch 2:  Loss:     0.0018 Validation Accuracy: 0.703000\n",
      "Epoch 23, CIFAR-10 Batch 3:  Loss:     0.0007 Validation Accuracy: 0.704600\n",
      "Epoch 23, CIFAR-10 Batch 4:  Loss:     0.0086 Validation Accuracy: 0.713000\n",
      "Epoch 23, CIFAR-10 Batch 5:  Loss:     0.0024 Validation Accuracy: 0.710000\n",
      "Epoch 24, CIFAR-10 Batch 1:  Loss:     0.0044 Validation Accuracy: 0.698800\n",
      "Epoch 24, CIFAR-10 Batch 2:  Loss:     0.0020 Validation Accuracy: 0.703000\n",
      "Epoch 24, CIFAR-10 Batch 3:  Loss:     0.0023 Validation Accuracy: 0.705600\n",
      "Epoch 24, CIFAR-10 Batch 4:  Loss:     0.0016 Validation Accuracy: 0.717600\n",
      "Epoch 24, CIFAR-10 Batch 5:  Loss:     0.0021 Validation Accuracy: 0.714800\n",
      "Epoch 25, CIFAR-10 Batch 1:  Loss:     0.0046 Validation Accuracy: 0.697000\n",
      "Epoch 25, CIFAR-10 Batch 2:  Loss:     0.0027 Validation Accuracy: 0.689800\n",
      "Epoch 25, CIFAR-10 Batch 3:  Loss:     0.0004 Validation Accuracy: 0.710000\n",
      "Epoch 25, CIFAR-10 Batch 4:  Loss:     0.0034 Validation Accuracy: 0.706800\n",
      "Epoch 25, CIFAR-10 Batch 5:  Loss:     0.0014 Validation Accuracy: 0.707000\n",
      "Epoch 26, CIFAR-10 Batch 1:  Loss:     0.0018 Validation Accuracy: 0.701400\n",
      "Epoch 26, CIFAR-10 Batch 2:  Loss:     0.0007 Validation Accuracy: 0.706400\n",
      "Epoch 26, CIFAR-10 Batch 3:  Loss:     0.0001 Validation Accuracy: 0.704600\n",
      "Epoch 26, CIFAR-10 Batch 4:  Loss:     0.0067 Validation Accuracy: 0.687800\n",
      "Epoch 26, CIFAR-10 Batch 5:  Loss:     0.0015 Validation Accuracy: 0.706200\n",
      "Epoch 27, CIFAR-10 Batch 1:  Loss:     0.0018 Validation Accuracy: 0.704800\n",
      "Epoch 27, CIFAR-10 Batch 2:  Loss:     0.0009 Validation Accuracy: 0.704800\n",
      "Epoch 27, CIFAR-10 Batch 3:  Loss:     0.0019 Validation Accuracy: 0.711000\n",
      "Epoch 27, CIFAR-10 Batch 4:  Loss:     0.0022 Validation Accuracy: 0.678400\n",
      "Epoch 27, CIFAR-10 Batch 5:  Loss:     0.0008 Validation Accuracy: 0.695400\n",
      "Epoch 28, CIFAR-10 Batch 1:  Loss:     0.0009 Validation Accuracy: 0.709200\n",
      "Epoch 28, CIFAR-10 Batch 2:  Loss:     0.0010 Validation Accuracy: 0.712200\n",
      "Epoch 28, CIFAR-10 Batch 3:  Loss:     0.0007 Validation Accuracy: 0.717600\n",
      "Epoch 28, CIFAR-10 Batch 4:  Loss:     0.0012 Validation Accuracy: 0.680000\n",
      "Epoch 28, CIFAR-10 Batch 5:  Loss:     0.0027 Validation Accuracy: 0.699600\n",
      "Epoch 29, CIFAR-10 Batch 1:  Loss:     0.0011 Validation Accuracy: 0.703600\n",
      "Epoch 29, CIFAR-10 Batch 2:  Loss:     0.0004 Validation Accuracy: 0.714600\n",
      "Epoch 29, CIFAR-10 Batch 3:  Loss:     0.0022 Validation Accuracy: 0.692200\n",
      "Epoch 29, CIFAR-10 Batch 4:  Loss:     0.0033 Validation Accuracy: 0.686400\n",
      "Epoch 29, CIFAR-10 Batch 5:  Loss:     0.0033 Validation Accuracy: 0.683000\n",
      "Epoch 30, CIFAR-10 Batch 1:  Loss:     0.0053 Validation Accuracy: 0.693400\n",
      "Epoch 30, CIFAR-10 Batch 2:  Loss:     0.0002 Validation Accuracy: 0.711000\n",
      "Epoch 30, CIFAR-10 Batch 3:  Loss:     0.0003 Validation Accuracy: 0.712800\n",
      "Epoch 30, CIFAR-10 Batch 4:  Loss:     0.0023 Validation Accuracy: 0.691600\n",
      "Epoch 30, CIFAR-10 Batch 5:  Loss:     0.0010 Validation Accuracy: 0.709400\n",
      "Epoch 31, CIFAR-10 Batch 1:  Loss:     0.0012 Validation Accuracy: 0.699400\n",
      "Epoch 31, CIFAR-10 Batch 2:  Loss:     0.0009 Validation Accuracy: 0.699400\n",
      "Epoch 31, CIFAR-10 Batch 3:  Loss:     0.0004 Validation Accuracy: 0.707600\n",
      "Epoch 31, CIFAR-10 Batch 4:  Loss:     0.0009 Validation Accuracy: 0.715400\n",
      "Epoch 31, CIFAR-10 Batch 5:  Loss:     0.0008 Validation Accuracy: 0.704800\n",
      "Epoch 32, CIFAR-10 Batch 1:  Loss:     0.0014 Validation Accuracy: 0.707000\n",
      "Epoch 32, CIFAR-10 Batch 2:  Loss:     0.0001 Validation Accuracy: 0.709800\n",
      "Epoch 32, CIFAR-10 Batch 3:  Loss:     0.0006 Validation Accuracy: 0.708400\n",
      "Epoch 32, CIFAR-10 Batch 4:  Loss:     0.0004 Validation Accuracy: 0.710600\n",
      "Epoch 32, CIFAR-10 Batch 5:  Loss:     0.0030 Validation Accuracy: 0.708000\n",
      "Epoch 33, CIFAR-10 Batch 1:  Loss:     0.0006 Validation Accuracy: 0.701400\n",
      "Epoch 33, CIFAR-10 Batch 2:  Loss:     0.0003 Validation Accuracy: 0.702200\n",
      "Epoch 33, CIFAR-10 Batch 3:  Loss:     0.0002 Validation Accuracy: 0.705400\n",
      "Epoch 33, CIFAR-10 Batch 4:  Loss:     0.0007 Validation Accuracy: 0.716600\n",
      "Epoch 33, CIFAR-10 Batch 5:  Loss:     0.0019 Validation Accuracy: 0.709400\n",
      "Epoch 34, CIFAR-10 Batch 1:  Loss:     0.0009 Validation Accuracy: 0.691200\n",
      "Epoch 34, CIFAR-10 Batch 2:  Loss:     0.0004 Validation Accuracy: 0.692200\n",
      "Epoch 34, CIFAR-10 Batch 3:  Loss:     0.0002 Validation Accuracy: 0.707600\n",
      "Epoch 34, CIFAR-10 Batch 4:  Loss:     0.0002 Validation Accuracy: 0.713800\n",
      "Epoch 34, CIFAR-10 Batch 5:  Loss:     0.0002 Validation Accuracy: 0.712200\n",
      "Epoch 35, CIFAR-10 Batch 1:  Loss:     0.0003 Validation Accuracy: 0.706800\n",
      "Epoch 35, CIFAR-10 Batch 2:  Loss:     0.0012 Validation Accuracy: 0.686000\n",
      "Epoch 35, CIFAR-10 Batch 3:  Loss:     0.0005 Validation Accuracy: 0.708600\n",
      "Epoch 35, CIFAR-10 Batch 4:  Loss:     0.0001 Validation Accuracy: 0.703600\n",
      "Epoch 35, CIFAR-10 Batch 5:  Loss:     0.0001 Validation Accuracy: 0.723600\n",
      "Epoch 36, CIFAR-10 Batch 1:  Loss:     0.0006 Validation Accuracy: 0.703200\n",
      "Epoch 36, CIFAR-10 Batch 2:  Loss:     0.0017 Validation Accuracy: 0.698200\n",
      "Epoch 36, CIFAR-10 Batch 3:  Loss:     0.0050 Validation Accuracy: 0.715000\n",
      "Epoch 36, CIFAR-10 Batch 4:  Loss:     0.0001 Validation Accuracy: 0.714200\n",
      "Epoch 36, CIFAR-10 Batch 5:  Loss:     0.0005 Validation Accuracy: 0.712000\n",
      "Epoch 37, CIFAR-10 Batch 1:  Loss:     0.0004 Validation Accuracy: 0.698400\n",
      "Epoch 37, CIFAR-10 Batch 2:  Loss:     0.0004 Validation Accuracy: 0.711200\n",
      "Epoch 37, CIFAR-10 Batch 3:  Loss:     0.0002 Validation Accuracy: 0.700600\n",
      "Epoch 37, CIFAR-10 Batch 4:  Loss:     0.0000 Validation Accuracy: 0.702800\n",
      "Epoch 37, CIFAR-10 Batch 5:  Loss:     0.0004 Validation Accuracy: 0.706400\n",
      "Epoch 38, CIFAR-10 Batch 1:  Loss:     0.0013 Validation Accuracy: 0.703600\n",
      "Epoch 38, CIFAR-10 Batch 2:  Loss:     0.0002 Validation Accuracy: 0.704200\n",
      "Epoch 38, CIFAR-10 Batch 3:  Loss:     0.0003 Validation Accuracy: 0.713200\n",
      "Epoch 38, CIFAR-10 Batch 4:  Loss:     0.0000 Validation Accuracy: 0.703400\n",
      "Epoch 38, CIFAR-10 Batch 5:  Loss:     0.0005 Validation Accuracy: 0.705000\n",
      "Epoch 39, CIFAR-10 Batch 1:  Loss:     0.0004 Validation Accuracy: 0.704800\n",
      "Epoch 39, CIFAR-10 Batch 2:  Loss:     0.0001 Validation Accuracy: 0.720600\n",
      "Epoch 39, CIFAR-10 Batch 3:  Loss:     0.0013 Validation Accuracy: 0.694400\n",
      "Epoch 39, CIFAR-10 Batch 4:  Loss:     0.0005 Validation Accuracy: 0.711400\n",
      "Epoch 39, CIFAR-10 Batch 5:  Loss:     0.0004 Validation Accuracy: 0.705000\n",
      "Epoch 40, CIFAR-10 Batch 1:  Loss:     0.0001 Validation Accuracy: 0.703800\n",
      "Epoch 40, CIFAR-10 Batch 2:  Loss:     0.0001 Validation Accuracy: 0.717000\n",
      "Epoch 40, CIFAR-10 Batch 3:  Loss:     0.0005 Validation Accuracy: 0.710600\n",
      "Epoch 40, CIFAR-10 Batch 4:  Loss:     0.0009 Validation Accuracy: 0.714600\n",
      "Epoch 40, CIFAR-10 Batch 5:  Loss:     0.0005 Validation Accuracy: 0.712600\n",
      "Epoch 41, CIFAR-10 Batch 1:  Loss:     0.0004 Validation Accuracy: 0.700200\n",
      "Epoch 41, CIFAR-10 Batch 2:  Loss:     0.0000 Validation Accuracy: 0.707200\n",
      "Epoch 41, CIFAR-10 Batch 3:  Loss:     0.0052 Validation Accuracy: 0.704000\n",
      "Epoch 41, CIFAR-10 Batch 4:  Loss:     0.0003 Validation Accuracy: 0.719000\n",
      "Epoch 41, CIFAR-10 Batch 5:  Loss:     0.0018 Validation Accuracy: 0.699200\n",
      "Epoch 42, CIFAR-10 Batch 1:  Loss:     0.0007 Validation Accuracy: 0.696600\n",
      "Epoch 42, CIFAR-10 Batch 2:  Loss:     0.0006 Validation Accuracy: 0.712600\n",
      "Epoch 42, CIFAR-10 Batch 3:  Loss:     0.0002 Validation Accuracy: 0.712400\n",
      "Epoch 42, CIFAR-10 Batch 4:  Loss:     0.0017 Validation Accuracy: 0.712000\n",
      "Epoch 42, CIFAR-10 Batch 5:  Loss:     0.0006 Validation Accuracy: 0.708200\n"
     ]
    }
   ],
   "source": [
    "\"\"\"\n",
    "DON'T MODIFY ANYTHING IN THIS CELL\n",
    "\"\"\"\n",
    "save_model_path = './image_classification'\n",
    "\n",
    "print('Training...')\n",
    "with tf.Session() as sess:\n",
    "    # Initializing the variables\n",
    "    sess.run(tf.global_variables_initializer())\n",
    "    \n",
    "    # Training cycle\n",
    "    for epoch in range(epochs):\n",
    "        # Loop over all batches\n",
    "        n_batches = 5\n",
    "        for batch_i in range(1, n_batches + 1):\n",
    "            for batch_features, batch_labels in helper.load_preprocess_training_batch(batch_i, batch_size):\n",
    "                train_neural_network(sess, optimizer, keep_probability, batch_features, batch_labels)\n",
    "            print('Epoch {:>2}, CIFAR-10 Batch {}:  '.format(epoch + 1, batch_i), end='')\n",
    "            print_stats(sess, batch_features, batch_labels, cost, accuracy)\n",
    "            \n",
    "    # Save Model\n",
    "    saver = tf.train.Saver()\n",
    "    save_path = saver.save(sess, save_model_path)"
   ]
  },
  {
   "cell_type": "markdown",
   "metadata": {},
   "source": [
    "# Checkpoint\n",
    "The model has been saved to disk.\n",
    "## Test Model\n",
    "Test your model against the test dataset.  This will be your final accuracy. You should have an accuracy greater than 50%. If you don't, keep tweaking the model architecture and parameters."
   ]
  },
  {
   "cell_type": "code",
   "execution_count": 18,
   "metadata": {},
   "outputs": [
    {
     "name": "stdout",
     "output_type": "stream",
     "text": [
      "INFO:tensorflow:Restoring parameters from ./image_classification\n",
      "Testing Accuracy: 0.69853515625\n",
      "\n"
     ]
    },
    {
     "data": {
      "image/png": "[encoded data removed]",
      "text/plain": [
       "<matplotlib.figure.Figure at 0x7f22395a2898>"
      ]
     },
     "metadata": {
      "image/png": {
       "height": 319,
       "width": 355
      }
     },
     "output_type": "display_data"
    }
   ],
   "source": [
    "\"\"\"\n",
    "DON'T MODIFY ANYTHING IN THIS CELL\n",
    "\"\"\"\n",
    "%matplotlib inline\n",
    "%config InlineBackend.figure_format = 'retina'\n",
    "\n",
    "import tensorflow as tf\n",
    "import pickle\n",
    "import helper\n",
    "import random\n",
    "\n",
    "# Set batch size if not already set\n",
    "try:\n",
    "    if batch_size:\n",
    "        pass\n",
    "except NameError:\n",
    "    batch_size = 64\n",
    "\n",
    "save_model_path = './image_classification'\n",
    "n_samples = 4\n",
    "top_n_predictions = 3\n",
    "\n",
    "def test_model():\n",
    "    \"\"\"\n",
    "    Test the saved model against the test dataset\n",
    "    \"\"\"\n",
    "\n",
    "    test_features, test_labels = pickle.load(open('preprocess_training.p', mode='rb'))\n",
    "    loaded_graph = tf.Graph()\n",
    "\n",
    "    with tf.Session(graph=loaded_graph) as sess:\n",
    "        # Load model\n",
    "        loader = tf.train.import_meta_graph(save_model_path + '.meta')\n",
    "        loader.restore(sess, save_model_path)\n",
    "\n",
    "        # Get Tensors from loaded model\n",
    "        loaded_x = loaded_graph.get_tensor_by_name('x:0')\n",
    "        loaded_y = loaded_graph.get_tensor_by_name('y:0')\n",
    "        loaded_keep_prob = loaded_graph.get_tensor_by_name('keep_prob:0')\n",
    "        loaded_logits = loaded_graph.get_tensor_by_name('logits:0')\n",
    "        loaded_acc = loaded_graph.get_tensor_by_name('accuracy:0')\n",
    "        \n",
    "        # Get accuracy in batches for memory limitations\n",
    "        test_batch_acc_total = 0\n",
    "        test_batch_count = 0\n",
    "        \n",
    "        for train_feature_batch, train_label_batch in helper.batch_features_labels(test_features, test_labels, batch_size):\n",
    "            test_batch_acc_total += sess.run(\n",
    "                loaded_acc,\n",
    "                feed_dict={loaded_x: train_feature_batch, loaded_y: train_label_batch, loaded_keep_prob: 1.0})\n",
    "            test_batch_count += 1\n",
    "\n",
    "        print('Testing Accuracy: {}\\n'.format(test_batch_acc_total/test_batch_count))\n",
    "\n",
    "        # Print Random Samples\n",
    "        random_test_features, random_test_labels = tuple(zip(*random.sample(list(zip(test_features, test_labels)), n_samples)))\n",
    "        random_test_predictions = sess.run(\n",
    "            tf.nn.top_k(tf.nn.softmax(loaded_logits), top_n_predictions),\n",
    "            feed_dict={loaded_x: random_test_features, loaded_y: random_test_labels, loaded_keep_prob: 1.0})\n",
    "        helper.display_image_predictions(random_test_features, random_test_labels, random_test_predictions)\n",
    "\n",
    "\n",
    "test_model()"
   ]
  },
  {
   "cell_type": "markdown",
   "metadata": {},
   "source": [
    "## Why 50-80% Accuracy?\n",
    "You might be wondering why you can't get an accuracy any higher. First things first, 50% isn't bad for a simple CNN.  Pure guessing would get you 10% accuracy. That's because there are many more techniques that can be applied to your model and we recemmond that once you are done with this project, you explore!\n",
    "\n",
    "## Submitting This Project\n",
    "When submitting this project, make sure to run all the cells before saving the notebook.  Save the notebook file as \"image_classification.ipynb\" and save it as a HTML file under \"File\" -> \"Download as\".  Include the \"helper.py\" and \"problem_unittests.py\" files in your submission."
   ]
  }
 ],
 "metadata": {
  "kernelspec": {
   "display_name": "Python 3",
   "language": "python",
   "name": "python3"
  },
  "language_info": {
   "codemirror_mode": {
    "name": "ipython",
    "version": 3
   },
   "file_extension": ".py",
   "mimetype": "text/x-python",
   "name": "python",
   "nbconvert_exporter": "python",
   "pygments_lexer": "ipython3",
   "version": "3.5.4"
  }
 },
 "nbformat": 4,
 "nbformat_minor": 2
}
